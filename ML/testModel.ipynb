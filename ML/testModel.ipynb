{
 "cells": [
  {
   "cell_type": "code",
   "execution_count": 1,
   "id": "b7930ab0-44a6-4369-8c03-0aff81bf6225",
   "metadata": {
    "tags": []
   },
   "outputs": [],
   "source": [
    "import torch\n",
    "import torch.nn as nn\n",
    "import torch.nn.functional as F\n",
    "from sklearn.model_selection import train_test_split\n",
    "import pandas as pd\n"
   ]
  },
  {
   "cell_type": "code",
   "execution_count": 2,
   "id": "5970b0fc-fe26-4d0b-b0c0-458e729312d6",
   "metadata": {},
   "outputs": [],
   "source": [
    "class MF(nn.Module):\n",
    "    def __init__(self, num_users, num_items, emb_size=100):\n",
    "        super(MF, self).__init__()\n",
    "        self.user_emb = nn.Embedding(num_users, emb_size)\n",
    "        self.item_emb = nn.Embedding(num_items, emb_size)\n",
    "        # initializing our matrices with a positive number generally will yield better results\n",
    "        self.user_emb.weight.data.uniform_(0, 0.5)\n",
    "        self.item_emb.weight.data.uniform_(0, 0.5)\n",
    "    def forward(self, u, v):\n",
    "        u = self.user_emb(u)\n",
    "        v = self.item_emb(v)\n",
    "        return (u*v).sum(1)  # taking the dot product"
   ]
  },
  {
   "cell_type": "code",
   "execution_count": 3,
   "id": "b62a7d2e-cc8a-41d1-b3a3-af44aa2b62d5",
   "metadata": {
    "tags": []
   },
   "outputs": [
    {
     "name": "stdout",
     "output_type": "stream",
     "text": [
      "<class 'pandas.core.series.Series'>\n"
     ]
    }
   ],
   "source": [
    "model = MF(610, 100836, emb_size=100)\n",
    "df = pd.read_csv('./ml-latest-small/ratings.csv', sep=',', header=None)\n",
    "# print(df[1])\n",
    "print(type(df[1]))"
   ]
  },
  {
   "cell_type": "code",
   "execution_count": 4,
   "id": "afe981f3-23aa-40ab-9d4d-654d74cc9dc1",
   "metadata": {
    "tags": []
   },
   "outputs": [],
   "source": [
    "train_df, valid_df = train_test_split(df, test_size=0.25)\n",
    "# resetting indices to avoid indexing errors\n",
    "train_df = train_df.reset_index(drop=True)\n",
    "test_df = valid_df.reset_index(drop=True)"
   ]
  },
  {
   "cell_type": "code",
   "execution_count": 5,
   "id": "8667bda4-981c-405f-9f94-73fdbe89558c",
   "metadata": {
    "tags": []
   },
   "outputs": [],
   "source": [
    "def train_epocs(model, epochs=10, lr=0.01, wd=0.0):\n",
    "    optimizer = torch.optim.Adam(model.parameters(), lr=lr, weight_decay=wd)\n",
    "    model.train()\n",
    "    for i in range(epochs):\n",
    "        usernames = torch.LongTensor(train_df.userId.values)\n",
    "        movie_titles = torch.LongTensor(train_df.movieId.values)\n",
    "        ratings = torch.FloatTensor(train_df.rating.values)\n",
    "        y_hat = model(usernames, movie_titles)\n",
    "        loss = F.mse_loss(y_hat, ratings)\n",
    "        optimizer.zero_grad()  # reset gradient\n",
    "        loss.backward()\n",
    "        optimizer.step()\n",
    "        print(loss.item())\n",
    "    test(model)"
   ]
  },
  {
   "cell_type": "code",
   "execution_count": 6,
   "id": "5e7e1b47-7444-46f0-98be-a812c40c76e8",
   "metadata": {
    "tags": []
   },
   "outputs": [],
   "source": [
    "def test(model):\n",
    "    model.eval()\n",
    "    usernames = torch.LongTensor(train_df.userId.values)\n",
    "    movie_titles = torch.LongTensor(train_df.movieId.values)\n",
    "    ratings = torch.FloatTensor(train_df.rating.values)\n",
    "    y_hat = model(usernames, movie_titles)\n",
    "    loss = F.mse_loss(y_hat, ratings)\n",
    "    print(\"test loss %.3f \" % loss.item())"
   ]
  },
  {
   "cell_type": "code",
   "execution_count": 8,
   "id": "a8cad934-b00b-4e83-a8aa-7a43dc6177fd",
   "metadata": {
    "tags": []
   },
   "outputs": [
    {
     "name": "stdout",
     "output_type": "stream",
     "text": [
      "             0        1       2           3\n",
      "0       userId  movieId  rating   timestamp\n",
      "1            1        1     4.0   964982703\n",
      "2            1        3     4.0   964981247\n",
      "3            1        6     4.0   964982224\n",
      "4            1       47     5.0   964983815\n",
      "...        ...      ...     ...         ...\n",
      "100832     610   166534     4.0  1493848402\n",
      "100833     610   168248     5.0  1493850091\n",
      "100834     610   168250     5.0  1494273047\n",
      "100835     610   168252     5.0  1493846352\n",
      "100836     610   170875     3.0  1493846415\n",
      "\n",
      "[100837 rows x 4 columns]\n"
     ]
    }
   ],
   "source": [
    "print(df)\n",
    "# movie_ratings = train_df.movieId.values\n",
    "# print(movie_rating)\n",
    "# user = torch.tensor([10])\n",
    "# games = torch.tensor(game_ratings['TitleId'].unique().tolist())\n",
    "# predictions = model(user, games).tolist()\n",
    "# print(predictions)"
   ]
  },
  {
   "cell_type": "code",
   "execution_count": null,
   "id": "11df5e7b-084d-4402-b5f8-9fc191cfc112",
   "metadata": {},
   "outputs": [],
   "source": []
  }
 ],
 "metadata": {
  "kernelspec": {
   "display_name": "Python 3 (ipykernel)",
   "language": "python",
   "name": "python3"
  },
  "language_info": {
   "codemirror_mode": {
    "name": "ipython",
    "version": 3
   },
   "file_extension": ".py",
   "mimetype": "text/x-python",
   "name": "python",
   "nbconvert_exporter": "python",
   "pygments_lexer": "ipython3",
   "version": "3.10.9"
  }
 },
 "nbformat": 4,
 "nbformat_minor": 5
}
