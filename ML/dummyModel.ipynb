{
 "cells": [
  {
   "cell_type": "code",
   "execution_count": 1,
   "id": "fcd22558-a29d-4bdc-a5ac-f929726aa45b",
   "metadata": {
    "tags": []
   },
   "outputs": [],
   "source": [
    "import torch\n",
    "import torch.nn as nn\n",
    "import pandas as pd"
   ]
  },
  {
   "cell_type": "code",
   "execution_count": 2,
   "id": "b5ab1381-142d-482e-91fd-da3678015f54",
   "metadata": {
    "tags": []
   },
   "outputs": [],
   "source": [
    "# Define the model\n",
    "class MatrixFactorization(nn.Module):\n",
    "    def __init__(self, n_users, n_movies, n_factors=20):\n",
    "        super(MatrixFactorization, self).__init__()\n",
    "        self.user_factors = nn.Embedding(n_users, n_factors)\n",
    "        self.movie_factors = nn.Embedding(n_movies, n_factors)\n",
    "        # initializing our matrices with a positive number generally will yield better results\n",
    "        self.user_factors.weight.data.uniform_(0, 0.5)\n",
    "        self.movie_factors.weight.data.uniform_(0, 0.5)\n",
    "        \n",
    "    def forward(self, user, movie):\n",
    "        return (self.user_factors(user) * self.movie_factors(movie)).sum(1)"
   ]
  },
  {
   "cell_type": "code",
   "execution_count": 3,
   "id": "942dfcdc-acf7-4b43-bc45-6f0e887f2552",
   "metadata": {
    "tags": []
   },
   "outputs": [],
   "source": [
    "# Load the MovieLens dataset\n",
    "movies = pd.read_csv('./ml-latest-small/movies.csv')\n",
    "ratings = pd.read_csv('./ml-latest-small/ratings.csv')\n",
    "\n",
    "# Preprocess the data\n",
    "n_users = ratings.userId.unique().shape[0]\n",
    "n_movies = ratings.movieId.unique().shape[0]\n",
    "\n",
    "# Convert movieId and userId into unique integers\n",
    "user_map = {u: i for i, u in enumerate(ratings.userId.unique())}\n",
    "ratings['user_id'] = ratings['userId'].map(user_map)\n",
    "\n",
    "movie_map = {m: i for i, m in enumerate(ratings.movieId.unique())}\n",
    "ratings['movie_id'] = ratings['movieId'].map(movie_map)\n",
    "\n",
    "# Create a matrix with users as rows and movies as columns\n",
    "matrix = torch.zeros((n_users, n_movies))\n",
    "for i, row in ratings.iterrows():\n",
    "    matrix[int(row.user_id), int(row.movie_id)] = row.rating"
   ]
  },
  {
   "cell_type": "code",
   "execution_count": 5,
   "id": "3d1ef397-9f05-4d7c-91bd-a31478db9e2b",
   "metadata": {
    "tags": []
   },
   "outputs": [
    {
     "name": "stdout",
     "output_type": "stream",
     "text": [
      "tensor(6.2147, grad_fn=<MseLossBackward0>)\n"
     ]
    }
   ],
   "source": [
    "model = MatrixFactorization(n_users, n_movies)\n",
    "criterion = nn.MSELoss()\n",
    "optimizer = torch.optim.SGD(model.parameters(), lr=0.01)\n",
    "\n",
    "# Train the model\n",
    "for i in range(100):\n",
    "    optimizer.zero_grad()\n",
    "    user = torch.LongTensor(ratings.user_id)\n",
    "    movie = torch.LongTensor(ratings.movie_id)\n",
    "    rating = torch.FloatTensor(ratings.rating)\n",
    "    predictions = model(user, movie)\n",
    "    loss = criterion(predictions, rating)\n",
    "    loss.backward()\n",
    "    optimizer.step()\n",
    "    \n",
    "    if i % 10 == 0:\n",
    "        print(loss)\n"
   ]
  },
  {
   "cell_type": "code",
   "execution_count": 6,
   "id": "27760998-9972-4dd8-86a4-69f8f037cb5b",
   "metadata": {
    "tags": []
   },
   "outputs": [
    {
     "name": "stdout",
     "output_type": "stream",
     "text": [
      "3939    Clash of the Titans (1981)\n",
      "Name: title, dtype: object\n",
      "\n",
      "4197    Final Destination 2 (2003)\n",
      "Name: title, dtype: object\n",
      "\n",
      "504    Home Alone (1990)\n",
      "Name: title, dtype: object\n",
      "\n"
     ]
    }
   ],
   "source": [
    "# Make recommendations for a given user\n",
    "def recommend_movies(model, user_id, num_recommendations):\n",
    "    with torch.no_grad():\n",
    "        user = torch.LongTensor([user_map[user_id]])\n",
    "        movies = torch.arange(n_movies)\n",
    "        ratings = model(user, movies).detach().numpy()\n",
    "    movie_ids = ratings.argsort()[-num_recommendations:][::-1]\n",
    "    recommended_movies = [movies[i] for i in movie_ids]\n",
    "    return recommended_movies"
   ]
  },
  {
   "cell_type": "code",
   "execution_count": null,
   "id": "fe58284a-e169-4d94-9582-6ccf983d9690",
   "metadata": {},
   "outputs": [],
   "source": [
    "# Get recommendations for a user with user_id 1\n",
    "def getRecs(model, user_id, num_recs):\n",
    "    recommended_movies = recommend_movies(model, user_id, num_recs)\n",
    "\n",
    "    # Convert tensors to Int\n",
    "    val = []\n",
    "    for i in range(num_recs):\n",
    "        val.append(int(recommended_movies[i]))\n",
    "\n",
    "    for id in val:\n",
    "        row = movies.loc[movies['movieId'] == id]\n",
    "        # print(type(row))\n",
    "        movie = row.values.tolist()\n",
    "        if len(movie) == 0:\n",
    "            continue\n",
    "        print(movie)\n",
    "        \n",
    "def getUserInfo(user):\n",
    "    row = ratings.loc[ratings['userId'] == user]\n",
    "    x = row.loc[ratings['rating'] >= 5.0]\n",
    "    movieIDS = x['movieId'].values\n",
    "\n",
    "    for id in movieIDS:\n",
    "        movie = movies.loc[movies['movieId'] == id]\n",
    "        print(movie.values.tolist())\n",
    "        print()"
   ]
  },
  {
   "cell_type": "code",
   "execution_count": null,
   "id": "5fb722cb-e32d-49fb-bfc1-4ee9eda62804",
   "metadata": {},
   "outputs": [],
   "source": [
    "userID = 100\n",
    "print(\"Recommendations for User {}: \".format(userID))\n",
    "print()\n",
    "getRecs(model, userID, 5)\n",
    "print()\n",
    "print(\"----------------------------------------------------------------------------------------\")\n",
    "print()\n",
    "print(\"Movies that User {} has rated over 5.0:\".format(userID)) \n",
    "print()\n",
    "getUserInfo(userID)"
   ]
  }
 ],
 "metadata": {
  "kernelspec": {
   "display_name": "Python 3 (ipykernel)",
   "language": "python",
   "name": "python3"
  },
  "language_info": {
   "codemirror_mode": {
    "name": "ipython",
    "version": 3
   },
   "file_extension": ".py",
   "mimetype": "text/x-python",
   "name": "python",
   "nbconvert_exporter": "python",
   "pygments_lexer": "ipython3",
   "version": "3.9.12"
  }
 },
 "nbformat": 4,
 "nbformat_minor": 5
}
